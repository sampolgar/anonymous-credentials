{
 "cells": [
  {
   "cell_type": "markdown",
   "id": "a014090d-a4ba-4e5b-8f3d-f1cc88d3afd0",
   "metadata": {},
   "source": [
    "https://0xparc.notion.site/Prerequisite-understanding-questions-c5ebb77a5cc049f39577ec9a7fb7b22c\n",
    "https://www.notion.so/Exercise-32-5-Paul-f-1-x-in-Z_5-0469124d946f4338973a2440ad07bbdc"
   ]
  },
  {
   "cell_type": "code",
   "execution_count": 2,
   "id": "595a8e13-a43c-44eb-9058-b61ac0a44afb",
   "metadata": {},
   "outputs": [
    {
     "name": "stdout",
     "output_type": "stream",
     "text": [
      "Hello, World!\n"
     ]
    }
   ],
   "source": [
    ":dep plotters = { version = \"^0.3.0\", default_features = false, features = [\"evcxr\", \"all_series\"] }\n",
    "println!(\"Hello, World!\");"
   ]
  },
  {
   "cell_type": "code",
   "execution_count": 8,
   "id": "80f6ef23-7cb4-4f83-bec5-d9579d470a85",
   "metadata": {},
   "outputs": [
    {
     "name": "stdin",
     "output_type": "stream",
     "text": [
      "Name? sam\n",
      "Password? ········\n"
     ]
    },
    {
     "name": "stdout",
     "output_type": "stream",
     "text": [
      "sam, Password: password\n"
     ]
    }
   ],
   "source": [
    ":dep evcxr_input\n",
    "let name = evcxr_input::get_string(\"Name?\");\n",
    "let password = evcxr_input::get_password(\"Password?\");\n",
    "println!(\"{}, Password: {}\", name, password);"
   ]
  },
  {
   "cell_type": "markdown",
   "id": "00c5c091-2d86-42b9-877a-c51ce9c04a28",
   "metadata": {},
   "source": [
    "long division\n",
    "- $(a,b) = (27,5)$   $\\quad$ $27= 5\\cdot 5 +2$\n",
    "- $(a,b)=(27,-5)$    $\\quad$ $27= -5\\cdot -5 +2$\n",
    "- $(a,b)=(127,0)$    $=0$\n",
    "- $(a,b)= (-1687, 11)$   $\\quad$ $-1687 = -154\\cdot -11 +6$\n",
    "- $(a,b)= (0, 7)$        $= 7$"
   ]
  },
  {
   "cell_type": "code",
   "execution_count": 14,
   "id": "f1bde328-5e76-4d33-abc6-44fe3c0d106d",
   "metadata": {},
   "outputs": [
    {
     "name": "stdout",
     "output_type": "stream",
     "text": [
      "(5, -2)\n"
     ]
    }
   ],
   "source": [
    "main();\n",
    "\n",
    "fn main() {\n",
    "    // println!(\"{:?}\", long_division(27, 5)); // (5, 2)\n",
    "    // println!(\"{:?}\", long_division(-27, 5)); // (-6, 3)\n",
    "    println!(\"{:?}\", long_division(-27, -5)); // (-5, 2)\n",
    "    // println!(\"{:?}\", long_division(-1687, 11)); // (-153, 4) not! should be -154, 7\n",
    "    // println!(\"{:?}\", long_division(127, 0)); // (0, 0)\n",
    "    // println!(\"{:?}\", long_division(0, 127)); // (0, 0)\n",
    "    // println!(\"{:?}\", long_division(27, -5)); // (-6, 3) 27 = -5 . -5 + 2\n",
    "}\n",
    "\n",
    "fn long_division(dividend: i32, divisor: i32) -> (i32, i32){\n",
    "    if divisor == 0 {\n",
    "        panic!(\"Divide by zero error\");\n",
    "    } else if dividend == 0 {\n",
    "        return (0, 0);\n",
    "    } else if dividend.abs() < divisor.abs() {\n",
    "        return (0, dividend);\n",
    "    }\n",
    "    \n",
    "    let sign_dividend = if dividend < 0 { -1 } else { 1 };\n",
    "    let sign_divisor = if divisor < 0 { -1 } else { 1 };\n",
    "\n",
    "    let mut quotient = (dividend.abs() / divisor.abs()) * sign_dividend * sign_divisor;\n",
    "    let mut remainder = dividend.abs() % divisor.abs();\n",
    "    \n",
    "    if sign_dividend != sign_divisor {\n",
    "        remainder = divisor.abs() - remainder;\n",
    "        quotient -= 1;\n",
    "    }\n",
    "    \n",
    "    assert_eq!(quotient * divisor.abs() + remainder, dividend.abs());\n",
    "    return (quotient, remainder * sign_dividend);\n",
    "}"
   ]
  },
  {
   "cell_type": "code",
   "execution_count": 3,
   "id": "6e042366-7853-45e2-a770-bc6b9d12599d",
   "metadata": {},
   "outputs": [
    {
     "name": "stdout",
     "output_type": "stream",
     "text": [
      "3 ---- \n",
      "4 ---- \n",
      "4 ---- \n",
      "1 ---- \n"
     ]
    }
   ],
   "source": [
    "main();\n",
    "\n",
    "fn main() {\n",
    "    println!(\"{:?} ---- \", euclidean_algo(63, 57));\n",
    "    println!(\"{:?} ---- \", euclidean_algo(4, 16));\n",
    "    println!(\"{:?} ---- \", euclidean_algo(16, 4));\n",
    "    println!(\"{:?} ---- \", euclidean_algo(7, 9));\n",
    "}\n",
    "\n",
    "fn euclidean_algo(mut a: i32, mut b: i32) -> (i32) {\n",
    "    if a < b {\n",
    "        std::mem::swap(&mut a, &mut b);\n",
    "    }\n",
    "    if b == 0 {\n",
    "        return (a);\n",
    "    }\n",
    "    return euclidean_algo(b, a % b);\n",
    "}"
   ]
  },
  {
   "cell_type": "code",
   "execution_count": null,
   "id": "915a0500-c0c8-4dbf-9e8d-3adf6bf56998",
   "metadata": {},
   "outputs": [],
   "source": []
  },
  {
   "cell_type": "code",
   "execution_count": null,
   "id": "e5534370-53d3-42a7-9001-013478d5b50e",
   "metadata": {},
   "outputs": [],
   "source": []
  }
 ],
 "metadata": {
  "kernelspec": {
   "display_name": "Rust",
   "language": "rust",
   "name": "rust"
  },
  "language_info": {
   "codemirror_mode": "rust",
   "file_extension": ".rs",
   "mimetype": "text/rust",
   "name": "Rust",
   "pygment_lexer": "rust",
   "version": ""
  }
 },
 "nbformat": 4,
 "nbformat_minor": 5
}
