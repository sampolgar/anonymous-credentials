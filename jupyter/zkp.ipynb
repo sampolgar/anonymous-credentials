{
 "cells": [
  {
   "cell_type": "markdown",
   "id": "a014090d-a4ba-4e5b-8f3d-f1cc88d3afd0",
   "metadata": {},
   "source": [
    "https://0xparc.notion.site/Prerequisite-understanding-questions-c5ebb77a5cc049f39577ec9a7fb7b22c\n",
    "https://www.notion.so/Exercise-32-5-Paul-f-1-x-in-Z_5-0469124d946f4338973a2440ad07bbdc"
   ]
  },
  {
   "cell_type": "code",
   "execution_count": 2,
   "id": "595a8e13-a43c-44eb-9058-b61ac0a44afb",
   "metadata": {},
   "outputs": [
    {
     "name": "stdout",
     "output_type": "stream",
     "text": [
      "Hello, World!\n"
     ]
    }
   ],
   "source": [
    ":dep plotters = { version = \"^0.3.0\", default_features = false, features = [\"evcxr\", \"all_series\"] }\n",
    "println!(\"Hello, World!\");"
   ]
  },
  {
   "cell_type": "code",
   "execution_count": 8,
   "id": "80f6ef23-7cb4-4f83-bec5-d9579d470a85",
   "metadata": {},
   "outputs": [
    {
     "name": "stdin",
     "output_type": "stream",
     "text": [
      "Name? sam\n",
      "Password? ········\n"
     ]
    },
    {
     "name": "stdout",
     "output_type": "stream",
     "text": [
      "sam, Password: password\n"
     ]
    }
   ],
   "source": [
    ":dep evcxr_input\n",
    "let name = evcxr_input::get_string(\"Name?\");\n",
    "let password = evcxr_input::get_password(\"Password?\");\n",
    "println!(\"{}, Password: {}\", name, password);"
   ]
  },
  {
   "cell_type": "markdown",
   "id": "00c5c091-2d86-42b9-877a-c51ce9c04a28",
   "metadata": {},
   "source": [
    "long division\n",
    "- $(a,b) = (27,5)$   $\\quad$ $27= 5\\cdot 5 +2$\n",
    "- $(a,b)=(27,-5)$    $\\quad$ $27= -5\\cdot -5 +2$\n",
    "- $(a,b)=(127,0)$    $=0$\n",
    "- $(a,b)= (-1687, 11)$   $\\quad$ $-1687 = -154\\cdot -11 +6$\n",
    "- $(a,b)= (0, 7)$        $= 7$"
   ]
  },
  {
   "cell_type": "code",
   "execution_count": null,
   "id": "f1bde328-5e76-4d33-abc6-44fe3c0d106d",
   "metadata": {},
   "outputs": [],
   "source": [
    "fn longDivision(pair: (i32, i32)) -> (i32, i32, i32, i32) {\n",
    "    let \n",
    "}"
   ]
  }
 ],
 "metadata": {
  "kernelspec": {
   "display_name": "Rust",
   "language": "rust",
   "name": "rust"
  },
  "language_info": {
   "codemirror_mode": "rust",
   "file_extension": ".rs",
   "mimetype": "text/rust",
   "name": "Rust",
   "pygment_lexer": "rust",
   "version": ""
  }
 },
 "nbformat": 4,
 "nbformat_minor": 5
}
