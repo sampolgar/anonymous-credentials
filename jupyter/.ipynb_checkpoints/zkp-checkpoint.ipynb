{
 "cells": [
  {
   "cell_type": "code",
   "execution_count": null,
   "id": "f1fc3b79-1d05-42b4-813e-599c871bde48",
   "metadata": {},
   "outputs": [],
   "source": [
    "https://0xparc.notion.site/Prerequisite-understanding-questions-c5ebb77a5cc049f39577ec9a7fb7b22c\n",
    "https://www.notion.so/Exercise-32-5-Paul-f-1-x-in-Z_5-0469124d946f4338973a2440ad07bbdc"
   ]
  }
 ],
 "metadata": {
  "kernelspec": {
   "display_name": "Rust",
   "language": "rust",
   "name": "rust"
  },
  "language_info": {
   "codemirror_mode": "rust",
   "file_extension": ".rs",
   "mimetype": "text/rust",
   "name": "Rust",
   "pygment_lexer": "rust",
   "version": ""
  }
 },
 "nbformat": 4,
 "nbformat_minor": 5
}
