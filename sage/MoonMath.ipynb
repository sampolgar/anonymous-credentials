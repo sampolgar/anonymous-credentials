{
 "cells": [
  {
   "cell_type": "code",
   "execution_count": 4,
   "id": "13291191",
   "metadata": {},
   "outputs": [
    {
     "data": {
      "text/plain": [
       "2^3 * 3^2 * 7"
      ]
     },
     "execution_count": 4,
     "metadata": {},
     "output_type": "execute_result"
    }
   ],
   "source": [
    "sage: n = NN(504)\n",
    "sage: factor(n)"
   ]
  },
  {
   "cell_type": "code",
   "execution_count": 9,
   "id": "3d862dbd",
   "metadata": {},
   "outputs": [
    {
     "data": {
      "text/plain": [
       "917760"
      ]
     },
     "execution_count": 9,
     "metadata": {},
     "output_type": "execute_result"
    }
   ],
   "source": [
    "sage: ZZ #  Integer Ring Sage notation for the set of integers\n",
    "sage: NN # Non negative integer semiringSage notation for the set of natural numbers\n",
    "sage: QQ # Rational Field Sage notation for the set of rational numbers\n",
    "sage: ZZ(5) # Get an element from the set of integers\n",
    "sage: ZZ(5) + ZZ(3)\n",
    "sage: ZZ(5) * NN(3)\n",
    "sage: ZZ.random_element(10**6)"
   ]
  },
  {
   "cell_type": "code",
   "execution_count": null,
   "id": "8a9ab8d4",
   "metadata": {},
   "outputs": [],
   "source": [
    "30030 /2 =  15,015 / 3 = 5,005 / 7 = 715 /5 = 143 / 11 = 13 "
   ]
  },
  {
   "cell_type": "markdown",
   "id": "7ec06957",
   "metadata": {},
   "source": [
    "### Exercise 1. \n",
    "What is the absolute value of the integers −123, 27 and 0?\n",
    "123, 27, 0"
   ]
  },
  {
   "cell_type": "markdown",
   "id": "a7431b35",
   "metadata": {},
   "source": [
    "### Exercise 2. \n",
    "Compute the factorization of 30030 and double check your results using Sage.\n",
    "30030 /2 =  15,015 / 3 = 5,005 / 7 = 715 /5 = 143 / 11 = 13\n",
    "2 * 3 * 7 * 5 * 11"
   ]
  },
  {
   "cell_type": "code",
   "execution_count": 10,
   "id": "9e01bd1b",
   "metadata": {},
   "outputs": [
    {
     "data": {
      "text/plain": [
       "2 * 3 * 5 * 7 * 11 * 13"
      ]
     },
     "execution_count": 10,
     "metadata": {},
     "output_type": "execute_result"
    }
   ],
   "source": [
    "sage: n = NN(30030)\n",
    "sage: factor(n)"
   ]
  },
  {
   "cell_type": "markdown",
   "id": "06e75919",
   "metadata": {},
   "source": [
    "### Exercise 3. \n",
    "Consider the following equation:\n",
    "4·x+21 = 5\n",
    "Compute the set of all solutions for x under the following alternative assumptions:\n",
    "1. The equation is defined over the set of natural numbers.\n",
    "2. The equation is defined over the set of integers.\n",
    "\n",
    "Natural number vs Integer?\n",
    "Natural number is non-negative,Integer is a whole number\n",
    "\n",
    "1. equation has no solution because any number for x will be greater than 5\n",
    "2. x = -4"
   ]
  },
  {
   "cell_type": "markdown",
   "id": "8ead5e37",
   "metadata": {},
   "source": [
    "### Exercise 4. \n",
    "Consider the following equation:\n",
    "$2x^3$ $−x^2$ −2x = −1.\n",
    "Compute the set of all solutions x under the following assumptions:\n",
    "1. The equation is defined over the set of natural numbers. \n",
    "2. The equation is defined over the set of integers.\n",
    "3. The equation is defined over the set of rational numbers.\n",
    "\n",
    "factorization = $(x-1)(x+1)(2x-1) = 0$ $\\therefore$ $x=1$ $x=-1$ $x=\\frac{1}{2}$\n",
    "\n",
    "1. natural number = positive number. $x=1$\n",
    "2. integer = whole number $x=1$$x=-1$\n",
    "3. rational number =  $x=1$$x=-1$$x=\\frac{1}{2}$\n",
    "\n"
   ]
  },
  {
   "cell_type": "markdown",
   "id": "327ad3f2",
   "metadata": {},
   "source": [
    "# Exercise 5\n",
    "Find an $m\\in\\mathbb{Z}$ and an $r\\in\\mathbb{N}$ with $0\\leq r< |b|$ such that $a= m\\cdot b +r$ holds for the following pairs:\n",
    "- $(a,b) = (27,5)$ \n",
    "- $(a,b)=(27,-5)$\n",
    "- $(a,b)=(127,0)$\n",
    "- $(a,b)= (-1687, 11)$\n",
    "- $(a,b)= (0, 7)$"
   ]
  },
  {
   "cell_type": "code",
   "execution_count": null,
   "id": "7a8434f7",
   "metadata": {},
   "outputs": [],
   "source": []
  },
  {
   "cell_type": "markdown",
   "id": "c3d012e3",
   "metadata": {},
   "source": [
    "### Exercise 6 \n",
    "(Long Division Algorithm). Using the programming language of your choice, write an algorithm that computes integer long division and handles all edge cases properly."
   ]
  },
  {
   "cell_type": "markdown",
   "id": "283ae2b9",
   "metadata": {},
   "source": [
    "### Exercise 7 \n",
    "(Binary Representation). Write an algorithm that computes the binary representation 3.13 of any non-negative integer."
   ]
  },
  {
   "cell_type": "code",
   "execution_count": null,
   "id": "7c3d15ae",
   "metadata": {},
   "outputs": [],
   "source": []
  }
 ],
 "metadata": {
  "kernelspec": {
   "display_name": "SageMath 10.0",
   "language": "sage",
   "name": "sagemath-10.0"
  },
  "language_info": {
   "codemirror_mode": {
    "name": "ipython",
    "version": 3
   },
   "file_extension": ".py",
   "mimetype": "text/x-python",
   "name": "python",
   "nbconvert_exporter": "python",
   "pygments_lexer": "ipython3",
   "version": "3.11.1"
  }
 },
 "nbformat": 4,
 "nbformat_minor": 5
}
