{
 "cells": [
  {
   "cell_type": "code",
   "execution_count": 4,
   "id": "52701640",
   "metadata": {},
   "outputs": [
    {
     "data": {
      "text/plain": [
       "2^3 * 3^2 * 7"
      ]
     },
     "execution_count": 4,
     "metadata": {},
     "output_type": "execute_result"
    }
   ],
   "source": [
    "sage: n = NN(504)\n",
    "sage: factor(n)"
   ]
  },
  {
   "cell_type": "code",
   "execution_count": 9,
   "id": "51acb9f3",
   "metadata": {},
   "outputs": [
    {
     "data": {
      "text/plain": [
       "917760"
      ]
     },
     "execution_count": 9,
     "metadata": {},
     "output_type": "execute_result"
    }
   ],
   "source": [
    "sage: ZZ #  Integer Ring Sage notation for the set of integers\n",
    "sage: NN # Non negative integer semiringSage notation for the set of natural numbers\n",
    "sage: QQ # Rational Field Sage notation for the set of rational numbers\n",
    "sage: ZZ(5) # Get an element from the set of integers\n",
    "sage: ZZ(5) + ZZ(3)\n",
    "sage: ZZ(5) * NN(3)\n",
    "sage: ZZ.random_element(10**6)"
   ]
  },
  {
   "cell_type": "code",
   "execution_count": null,
   "id": "bec40560",
   "metadata": {},
   "outputs": [],
   "source": [
    "30030 /2 =  15,015 / 3 = 5,005 / 7 = 715 /5 = 143 / 11 = 13 "
   ]
  },
  {
   "cell_type": "markdown",
   "id": "abc46c9d",
   "metadata": {},
   "source": [
    "### Exercise 1. \n",
    "What is the absolute value of the integers −123, 27 and 0?\n",
    "123, 27, 0"
   ]
  },
  {
   "cell_type": "markdown",
   "id": "92495171",
   "metadata": {},
   "source": [
    "### Exercise 2. \n",
    "Compute the factorization of 30030 and double check your results using Sage.\n",
    "30030 /2 =  15,015 / 3 = 5,005 / 7 = 715 /5 = 143 / 11 = 13\n",
    "2 * 3 * 7 * 5 * 11"
   ]
  },
  {
   "cell_type": "code",
   "execution_count": 10,
   "id": "7ea85442",
   "metadata": {},
   "outputs": [
    {
     "data": {
      "text/plain": [
       "2 * 3 * 5 * 7 * 11 * 13"
      ]
     },
     "execution_count": 10,
     "metadata": {},
     "output_type": "execute_result"
    }
   ],
   "source": [
    "sage: n = NN(30030)\n",
    "sage: factor(n)"
   ]
  },
  {
   "cell_type": "markdown",
   "id": "3032a13b",
   "metadata": {},
   "source": [
    "### Exercise 3. \n",
    "Consider the following equation:\n",
    "4·x+21 = 5\n",
    "Compute the set of all solutions for x under the following alternative assumptions:\n",
    "1. The equation is defined over the set of natural numbers.\n",
    "2. The equation is defined over the set of integers.\n",
    "\n",
    "Natural number vs Integer?\n",
    "Natural number is non-negative,Integer is a whole number\n",
    "\n",
    "1. equation has no solution because any number for x will be greater than 5\n",
    "2. x = -4"
   ]
  },
  {
   "cell_type": "markdown",
   "id": "017fd8b2",
   "metadata": {},
   "source": [
    "### Exercise 4. \n",
    "Consider the following equation:\n",
    "$2x^3$ $−x^2$ −2x = −1.\n",
    "Compute the set of all solutions x under the following assumptions:\n",
    "1. The equation is defined over the set of natural numbers. \n",
    "2. The equation is defined over the set of integers.\n",
    "3. The equation is defined over the set of rational numbers.\n",
    "\n",
    "factorization = $(x-1)(x+1)(2x-1) = 0$ $\\therefore$ $x=1$ $x=-1$ $x=\\frac{1}{2}$\n",
    "\n",
    "1. natural number = positive number. $x=1$\n",
    "2. integer = whole number $x=1$$x=-1$\n",
    "3. rational number =  $x=1$$x=-1$$x=\\frac{1}{2}$\n",
    "\n"
   ]
  },
  {
   "cell_type": "markdown",
   "id": "792a368e",
   "metadata": {},
   "source": [
    "# Euclidean Division\n",
    "Example\n",
    "$a = m\\cdot b + r$ \n",
    "//\n",
    "-17 = 4 x b + r"
   ]
  },
  {
   "cell_type": "code",
   "execution_count": 19,
   "id": "6b313425",
   "metadata": {},
   "outputs": [
    {
     "data": {
      "text/plain": [
       "-5"
      ]
     },
     "execution_count": 19,
     "metadata": {},
     "output_type": "execute_result"
    }
   ],
   "source": [
    "sage: ZZ(-17) // ZZ(4) # Integer Quotient"
   ]
  },
  {
   "cell_type": "code",
   "execution_count": 20,
   "id": "fb83e235",
   "metadata": {},
   "outputs": [
    {
     "data": {
      "text/plain": [
       "3"
      ]
     },
     "execution_count": 20,
     "metadata": {},
     "output_type": "execute_result"
    }
   ],
   "source": [
    "sage: ZZ(-17) % ZZ(4)  # -17 mod 4 = 3"
   ]
  },
  {
   "cell_type": "code",
   "execution_count": 21,
   "id": "a7692607",
   "metadata": {},
   "outputs": [
    {
     "data": {
      "text/plain": [
       "False"
      ]
     },
     "execution_count": 21,
     "metadata": {},
     "output_type": "execute_result"
    }
   ],
   "source": [
    "sage: ZZ(4).divides(ZZ(-17)) # self divides other"
   ]
  },
  {
   "cell_type": "code",
   "execution_count": 22,
   "id": "825e25ad",
   "metadata": {},
   "outputs": [
    {
     "data": {
      "text/plain": [
       "True"
      ]
     },
     "execution_count": 22,
     "metadata": {},
     "output_type": "execute_result"
    }
   ],
   "source": [
    "ZZ(4).divides(ZZ(12))"
   ]
  },
  {
   "cell_type": "markdown",
   "id": "85afbe2d",
   "metadata": {},
   "source": [
    "# Long Division"
   ]
  },
  {
   "cell_type": "code",
   "execution_count": 23,
   "id": "0c3fc862",
   "metadata": {},
   "outputs": [
    {
     "data": {
      "text/plain": [
       "(8457, 16)"
      ]
     },
     "execution_count": 23,
     "metadata": {},
     "output_type": "execute_result"
    }
   ],
   "source": [
    "ZZ(143785).quo_rem(ZZ(17)) # quo_rem is quotient remainder?"
   ]
  },
  {
   "cell_type": "code",
   "execution_count": 24,
   "id": "0a2cc93b",
   "metadata": {},
   "outputs": [
    {
     "data": {
      "text/plain": [
       "True"
      ]
     },
     "execution_count": 24,
     "metadata": {},
     "output_type": "execute_result"
    }
   ],
   "source": [
    "ZZ(143785) == ZZ(8457)*ZZ(17) + ZZ(16)"
   ]
  },
  {
   "cell_type": "markdown",
   "id": "22713def",
   "metadata": {},
   "source": [
    "# Exercise 5\n",
    "Find an $m\\in\\mathbb{Z}$ and an $r\\in\\mathbb{N}$ with $0\\leq r< |b|$ such that $a= m\\cdot b +r$ holds for the following pairs:\n",
    "- $(a,b) = (27,5)$   $\\quad$ $27= 5\\cdot 5 +2$\n",
    "- $(a,b)=(27,-5)$    $\\quad$ $27= -5\\cdot -5 +2$\n",
    "- $(a,b)=(127,0)$    $=0$\n",
    "- $(a,b)= (-1687, 11)$   $\\quad$ $-1687 = -154\\cdot -11 +6$\n",
    "- $(a,b)= (0, 7)$        $= 7$"
   ]
  },
  {
   "cell_type": "markdown",
   "id": "1340939d",
   "metadata": {},
   "source": [
    "### Exercise 6 \n",
    "(Long Division Algorithm). Using the programming language of your choice, write an algorithm that computes integer long division and handles all edge cases properly.\n",
    "\n",
    "Edge cases:\\\n",
    "If a = 0, m = 1, r = 0\\\n",
    "If b = 0, can't do the operation\\\n",
    "\n",
    "$a= m\\cdot b +r$\\\n",
    "$(a,b)= (-1687, 11)$\n",
    "var result;\n",
    "var window;\n",
    "var iterator = 0;\\\n",
    "1) let b = 11, window = a[iterator]\\\n",
    "2) if b > window, iterator++, window = window + a[iterator]\\\n",
    "3) if b > window, iterator++, window = window + a[iterator]\\\n",
    "4) tempInteger = b / window\\, tempRemainder = b mod window\\\n",
    "5) if tempInteger > 0, result.append(tempInteger), if tempRemainder > 0, tempRemainder\n",
    "\n",
    "\n",
    "(-1687, 11)\n",
    "let result = 0; let window = 0; let iterator = 0; a = |-1687|, b = 11; let isANegative = true;\n",
    "\n",
    "1) window = a[iterator] = 1, b = 11\n",
    "if b > window, iterator ++; window = window.append(a[iterator]). Window = 16, iterator = 1\n",
    "11/16 = 1 r 5\n",
    "result = 1\n",
    "iterator ++\n",
    "r * 10 + a[iterator] = 50 + 8\n",
    "11/58 = 5 r 3\n",
    "iterator ++\n",
    "r * 10 + a[iterator] = 30 + 7\n",
    "37/11 = 3 r 4\n",
    "\n",
    "tempResult = 153 r 4\n",
    "\n",
    "check\n",
    "if 153 * 11 > -1687 \n",
    "add 1 to quotient\n",
    "\n",
    "\n",
    "\n",
    "\n"
   ]
  },
  {
   "cell_type": "markdown",
   "id": "ad4c4df6",
   "metadata": {},
   "source": [
    "### Exercise 7 \n",
    "(Binary Representation). Write an algorithm that computes the binary representation 3.13 of any non-negative integer."
   ]
  },
  {
   "cell_type": "code",
   "execution_count": null,
   "id": "21930c05",
   "metadata": {},
   "outputs": [],
   "source": []
  }
 ],
 "metadata": {
  "kernelspec": {
   "display_name": "SageMath 10.0",
   "language": "sage",
   "name": "sagemath-10.0"
  },
  "language_info": {
   "codemirror_mode": {
    "name": "ipython",
    "version": 3
   },
   "file_extension": ".py",
   "mimetype": "text/x-python",
   "name": "python",
   "nbconvert_exporter": "python",
   "pygments_lexer": "ipython3",
   "version": "3.11.1"
  }
 },
 "nbformat": 4,
 "nbformat_minor": 5
}
